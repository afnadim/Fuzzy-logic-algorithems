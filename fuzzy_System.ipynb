{
 "cells": [
  {
   "cell_type": "markdown",
   "metadata": {},
   "source": [
    "# Fuzzy System"
   ]
  },
  {
   "cell_type": "markdown",
   "metadata": {},
   "source": [
    "### Building the parser to read the knowledge base"
   ]
  },
  {
   "cell_type": "code",
   "execution_count": 1,
   "metadata": {},
   "outputs": [],
   "source": [
    "#This fucntion will parse the text file and put diffrent values into diffrent dictonaries and list\n",
    "#some idea for the parser was taken from https://github.com/Jicol95/Tsukamoto-Rule-Based-System\n",
    "import re\n",
    "def parse_knowledge_base(txt_file):\n",
    "\n",
    "    # Opening the file\n",
    "    txt_extracted = open(txt_file, 'r')\n",
    "\n",
    "    # putting the whole file into a list\n",
    "    listed_text = re.split(r'\\n\\n', txt_extracted.read())\n",
    "\n",
    "    # taking the name of the rule base as the first entry of the list followed by the rules\n",
    "    rb_name = listed_text[0]\n",
    "    rules = listed_text [1] #rules\n",
    "    crisp_data = listed_text[len(listed_text)-1]#crist data or the real world data\n",
    "    membership_functions = {}#dictornary to hold membership values\n",
    "    text_value_parsed = {}#dictonary to put all the parsed values\n",
    "\n",
    "    for i in range(2, len(listed_text)-1,2):\n",
    "        functions = [] #list to store membership values\n",
    "        function_grouped_by_name = listed_text[i+1].split(\"\\n\")\n",
    "        for j in range(0, len(function_grouped_by_name)):\n",
    "            value = function_grouped_by_name[j].split(\" \")\n",
    "            key = {\"name\" : value[0], \"value\" : [value[1],value[2],value[3],value[4]]}\n",
    "            functions.append(key)\n",
    "        membership_functions[listed_text[i].strip()] = functions\n",
    "\n",
    "    crisp_data = crisp_data.split(\"\\n\")#converting crisp data\n",
    "    crisp = []#list to store crisp data\n",
    "    for i in range(0,len(crisp_data)):\n",
    "        x = crisp_data[i].split(\" = \")\n",
    "        if x is not None:\n",
    "            crisp.append({\"name\" : x[0], \"value\":x[1]})\n",
    "\n",
    "    # putting dirrent values inside designated lists\n",
    "    text_value_parsed['rb_name'] = rb_name\n",
    "    text_value_parsed['membership_functions'] = membership_functions\n",
    "    text_value_parsed['rule_base'] = rules.split(\"\\n\")\n",
    "    text_value_parsed['crisp_data'] = crisp\n",
    "\n",
    "    #returning the whole dictonary\n",
    "    return text_value_parsed"
   ]
  },
  {
   "cell_type": "code",
   "execution_count": 2,
   "metadata": {},
   "outputs": [],
   "source": [
    "DB ={}\n",
    "DB=parse_knowledge_base(\"example.txt\")"
   ]
  },
  {
   "cell_type": "code",
   "execution_count": 3,
   "metadata": {},
   "outputs": [
    {
     "data": {
      "text/plain": [
       "{'rb_name': 'tippingRulebase',\n",
       " 'membership_functions': {'driving': [{'name': 'bad',\n",
       "    'value': ['0', '30', '0', '20']},\n",
       "   {'name': 'average', 'value': ['50', '50', '20', '20']},\n",
       "   {'name': 'good', 'value': ['80', '100', '20', '0']}],\n",
       "  'journey_time': [{'name': 'short', 'value': ['0', '0', '0', '10']},\n",
       "   {'name': 'medium', 'value': ['10', '10', '5', '5']},\n",
       "   {'name': 'long', 'value': ['20', '20', '10', '0']}],\n",
       "  'tip': [{'name': 'small', 'value': ['50', '50', '50', '50']},\n",
       "   {'name': 'moderate', 'value': ['100', '100', '50', '50']},\n",
       "   {'name': 'big', 'value': ['150', '150', '50', '50']}]},\n",
       " 'rule_base': ['Rule 1: If driving is good and journey_time is short then tip is big',\n",
       "  'Rule 2: If driving is good or journey_time is short then tip is moderate',\n",
       "  'Rule 3: If driving is average or journey_time is medium then tip is moderate',\n",
       "  'Rule 4: If driving is bad and journey_time is long then tip is small'],\n",
       " 'crisp_data': [{'name': 'journey_time', 'value': '9'},\n",
       "  {'name': 'driving', 'value': '65'}]}"
      ]
     },
     "execution_count": 3,
     "metadata": {},
     "output_type": "execute_result"
    }
   ],
   "source": [
    "DB"
   ]
  },
  {
   "cell_type": "code",
   "execution_count": 4,
   "metadata": {},
   "outputs": [
    {
     "data": {
      "text/plain": [
       "'journey_time'"
      ]
     },
     "execution_count": 4,
     "metadata": {},
     "output_type": "execute_result"
    }
   ],
   "source": [
    "DB[\"crisp_data\"][0]['name']"
   ]
  },
  {
   "cell_type": "code",
   "execution_count": 5,
   "metadata": {},
   "outputs": [
    {
     "name": "stdout",
     "output_type": "stream",
     "text": [
      "9\n"
     ]
    }
   ],
   "source": [
    "print(DB[\"crisp_data\"][0][\"value\"])"
   ]
  },
  {
   "cell_type": "code",
   "execution_count": 6,
   "metadata": {},
   "outputs": [
    {
     "name": "stdout",
     "output_type": "stream",
     "text": [
      "['driving', 'journey_time', 'tip']\n",
      "driving\n",
      "-----------------------------\n",
      "['0', '30', '0', '20']\n",
      "journey_time\n",
      "-----------------------------\n",
      "['0', '0', '0', '10']\n",
      "tip\n",
      "-----------------------------\n",
      "['50', '50', '50', '50']\n"
     ]
    }
   ],
   "source": [
    "li = list(DB[\"membership_functions\"])\n",
    "print(li)\n",
    "for i in li:\n",
    "    print(i)\n",
    "    print('-----------------------------')\n",
    "    x = DB[\"membership_functions\"][i][0]['value']\n",
    "    print(x)"
   ]
  },
  {
   "cell_type": "markdown",
   "metadata": {},
   "source": [
    "## extraction and fuzzyfication"
   ]
  },
  {
   "cell_type": "markdown",
   "metadata": {},
   "source": [
    "### step 1: getting list\n"
   ]
  },
  {
   "cell_type": "code",
   "execution_count": 7,
   "metadata": {},
   "outputs": [
    {
     "name": "stdout",
     "output_type": "stream",
     "text": [
      "['journey_time', 'driving']\n",
      "----membership names---\n",
      "['driving', 'journey_time', 'tip']\n"
     ]
    }
   ],
   "source": [
    "length = len(DB[\"crisp_data\"])\n",
    "crisp_list = []\n",
    "member_list = []\n",
    "for i in range(0,length):\n",
    "    crisp_list.append(DB['crisp_data'][i]['name'])\n",
    "\n",
    "member_list = list(DB[\"membership_functions\"])\n",
    "\n",
    "print(crisp_list)\n",
    "print('----membership names---')\n",
    "print(member_list)"
   ]
  },
  {
   "cell_type": "markdown",
   "metadata": {},
   "source": [
    "### step 2 : Matching and conducting fuzzyfication\n"
   ]
  },
  {
   "cell_type": "code",
   "execution_count": 8,
   "metadata": {},
   "outputs": [
    {
     "name": "stdout",
     "output_type": "stream",
     "text": [
      "{'journey_time': '9', 'driving': '65'}\n"
     ]
    }
   ],
   "source": [
    "crisp_dic = {}\n",
    "length_crisp = len(DB['crisp_data'])\n",
    "for i in range(0,length_crisp):\n",
    "    key, value = DB[\"crisp_data\"][i]['name'] , DB[\"crisp_data\"][i]['value']\n",
    "    crisp_dic[key] = value\n",
    "print(crisp_dic)"
   ]
  },
  {
   "cell_type": "code",
   "execution_count": 9,
   "metadata": {},
   "outputs": [],
   "source": [
    "#getting crisp values\n",
    "def get_value(val):\n",
    "    for key, value in crisp_dic.items():\n",
    "        if val == key:\n",
    "            return value\n",
    "\n",
    "#---------------getting values by the key------\n",
    "fuzzy_dic1 = {}\n",
    "def make_dic(name,val):\n",
    "    key, value = name , val\n",
    "    fuzzy_dic1[key] = value\n"
   ]
  },
  {
   "cell_type": "code",
   "execution_count": 10,
   "metadata": {
    "scrolled": true
   },
   "outputs": [
    {
     "name": "stdout",
     "output_type": "stream",
     "text": [
      "\n",
      "---------------------------------------------------------------\n",
      "length of variable is : 3\n",
      "value for journey_time  is : 9\n",
      "short\n",
      "{'short': 0.1}\n",
      "[0.1]\n",
      "medium\n",
      "{'short': 0.1, 'medium': 0.8}\n",
      "[0.8]\n",
      "long\n",
      "{'short': 0.1, 'medium': 0.8, 'long': 0}\n",
      "[0]\n",
      "\n",
      "---------------------------------------------------------------\n",
      "length of variable is : 3\n",
      "value for driving  is : 65\n",
      "bad\n",
      "{'bad': 0}\n",
      "[0]\n",
      "average\n",
      "{'bad': 0, 'average': 0.25}\n",
      "[0.25]\n",
      "good\n",
      "{'bad': 0, 'average': 0.25, 'good': 0.25}\n",
      "[0.25]\n"
     ]
    }
   ],
   "source": [
    "main_fuzzy_dic = {}\n",
    "name_list = []\n",
    "val_list = []\n",
    "for i in crisp_list:\n",
    "    temp_list = []\n",
    "    print('')\n",
    "    print(\"---------------------------------------------------------------\")\n",
    "    x = list(DB[\"membership_functions\"][i])\n",
    "    length = len(DB[\"membership_functions\"][i])\n",
    "    print('length of variable is :', length)\n",
    "    length1 = len(DB['crisp_data'])\n",
    "    fuzzy_dic = {}\n",
    "    #### extracting the value from crisp input\n",
    "    main_fuzzy_dic[i] = fuzzy_dic\n",
    "    num = get_value(i)\n",
    "    num = int(num)\n",
    "    print('value for', i , ' is :', num )\n",
    "    for k in range(0,length):\n",
    "        temp_list.append(DB[\"membership_functions\"][i][k]['name'])\n",
    "        j_t_list=[]\n",
    "        print(DB[\"membership_functions\"][i][k]['name'])\n",
    "    #-------------------------------------------------------------------------------------\n",
    "        if num < (int(DB[\"membership_functions\"][i][k]['value'][0]) - int(DB[\"membership_functions\"][i][k]['value'][2])): \n",
    "            j_t_list.append(0)\n",
    "    \n",
    "    #----------------------------------------------------------------------------------------------\n",
    "        \n",
    "        elif (num > (int(DB[\"membership_functions\"][i][k]['value'][0]) - int(DB[\"membership_functions\"][i][k]['value'][2])) and num < int(DB[\"membership_functions\"][i][k]['value'][0])):\n",
    "            j_t_list.append(((num - (int(DB[\"membership_functions\"][i][k]['value'][0]))+int(DB[\"membership_functions\"][i][k]['value'][2]))/ int(DB[\"membership_functions\"][i][k]['value'][2])))\n",
    "\n",
    "        \n",
    "    #----------------------------------------------------------------------------------------\n",
    "        \n",
    "        elif num > int(DB[\"membership_functions\"][i][k]['value'][0]) and num < int(DB[\"membership_functions\"][i][k]['value'][1]):\n",
    "            j_t_list.append(1)\n",
    "        \n",
    "    #---------------------------------------------444--------------------------------------------------------------------\n",
    "        \n",
    "        elif num > int(DB[\"membership_functions\"][i][k]['value'][1]) and num < int(DB[\"membership_functions\"][i][k]['value'][1]) + int(DB[\"membership_functions\"][i][k]['value'][3]):\n",
    "\n",
    "            j_t_list.append((int(DB[\"membership_functions\"][i][k]['value'][1]) + int(DB[\"membership_functions\"][i][k]['value'][3]) - num) / int(DB[\"membership_functions\"][i][k]['value'][3]))\n",
    "\n",
    "        \n",
    "        \n",
    "    #------------------------------------------------------------------------------------------------\n",
    "            \n",
    "        elif num > int(DB[\"membership_functions\"][i][k]['value'][1]) + int(DB[\"membership_functions\"][i][k]['value'][3]):\n",
    "            j_t_list.append(0)\n",
    "        \n",
    "    #----------------------------------------------------------------------------------------------------------------------\n",
    "        name_list.append(DB[\"membership_functions\"][i][k]['name'])\n",
    "        val_list.append(j_t_list[0])\n",
    "    #----------------------------------------------------------------------------------------------------------------------\n",
    "        \n",
    "        fuzzy_dic[DB[\"membership_functions\"][i][k]['name']] = j_t_list[0]\n",
    "        print(fuzzy_dic)\n",
    "        print(j_t_list)\n"
   ]
  },
  {
   "cell_type": "code",
   "execution_count": 11,
   "metadata": {},
   "outputs": [
    {
     "name": "stdout",
     "output_type": "stream",
     "text": [
      "{'journey_time': {'short': 0.1, 'medium': 0.8, 'long': 0}, 'driving': {'bad': 0, 'average': 0.25, 'good': 0.25}}\n"
     ]
    }
   ],
   "source": [
    "print(main_fuzzy_dic)"
   ]
  },
  {
   "cell_type": "markdown",
   "metadata": {},
   "source": [
    "## Rule base operations"
   ]
  },
  {
   "cell_type": "code",
   "execution_count": 12,
   "metadata": {
    "scrolled": false
   },
   "outputs": [
    {
     "name": "stdout",
     "output_type": "stream",
     "text": [
      " \n",
      " \n",
      "['Rule', '1:', 'If', 'driving', 'is', 'good', 'and', 'journey_time', 'is', 'short', 'then', 'tip', 'is', 'big']\n",
      "['Rule 1: If driving is good', 'journey_time is short then tip is big']\n",
      "journey_time is short then tip is big\n",
      "zn :  journey_time is short then tip is big\n",
      "rule list two:  ['journey_time is short ', ' tip is big']\n",
      "rule list three  ['journey_time', 'is', 'short', '']\n",
      "rule list four  ['', 'tip', 'is', 'big']\n",
      "rule list three  ['journey_time', 'is', 'short', '']\n",
      "rule list four ['tip', 'is', 'big']\n",
      " \n",
      " \n",
      "['Rule', '2:', 'If', 'driving', 'is', 'good', 'or', 'journey_time', 'is', 'short', 'then', 'tip', 'is', 'moderate']\n",
      "['Rule 2: If driving is good', 'journey_time is short then tip is moderate']\n",
      "journey_time is short then tip is moderate\n",
      "zn :  journey_time is short then tip is moderate\n",
      "rule list two:  ['journey_time is short ', ' tip is moderate']\n",
      "rule list three  ['journey_time', 'is', 'short', '']\n",
      "rule list four  ['', 'tip', 'is', 'moderate']\n",
      "rule list three  ['journey_time', 'is', 'short', '']\n",
      "rule list four ['tip', 'is', 'moderate']\n",
      " \n",
      " \n",
      "['Rule', '3:', 'If', 'driving', 'is', 'average', 'or', 'journey_time', 'is', 'medium', 'then', 'tip', 'is', 'moderate']\n",
      "['Rule 3: If driving is average', 'journey_time is medium then tip is moderate']\n",
      "journey_time is medium then tip is moderate\n",
      "zn :  journey_time is medium then tip is moderate\n",
      "rule list two:  ['journey_time is medium ', ' tip is moderate']\n",
      "rule list three  ['journey_time', 'is', 'medium', '']\n",
      "rule list four  ['', 'tip', 'is', 'moderate']\n",
      "rule list three  ['journey_time', 'is', 'medium', '']\n",
      "rule list four ['tip', 'is', 'moderate']\n",
      " \n",
      " \n",
      "['Rule', '4:', 'If', 'driving', 'is', 'bad', 'and', 'journey_time', 'is', 'long', 'then', 'tip', 'is', 'small']\n",
      "['Rule 4: If driving is bad', 'journey_time is long then tip is small']\n",
      "journey_time is long then tip is small\n",
      "zn :  journey_time is long then tip is small\n",
      "rule list two:  ['journey_time is long ', ' tip is small']\n",
      "rule list three  ['journey_time', 'is', 'long', '']\n",
      "rule list four  ['', 'tip', 'is', 'small']\n",
      "rule list three  ['journey_time', 'is', 'long', '']\n",
      "rule list four ['tip', 'is', 'small']\n"
     ]
    }
   ],
   "source": [
    "#creating lists for our variables\n",
    "rule_list = []\n",
    "variable_one = []\n",
    "val1 = []\n",
    "variable_two = []\n",
    "val2 = []\n",
    "variable_three = []\n",
    "val3 = []\n",
    "\n",
    "for i in DB['rule_base']:\n",
    "    print(' ')\n",
    "    #print(i)\n",
    "    y = i.split(':')\n",
    "    x = i.split(' ')\n",
    "    \n",
    "    \n",
    "    #splitting with boolean\n",
    "    if 'and' in x:\n",
    "        z = i.split(' and ')\n",
    "    else:\n",
    "        z = i.split(' or ')\n",
    "    print(' ')\n",
    "    print(x)\n",
    "    print(z)\n",
    "    \n",
    "    rule_list.append(y[0]) #rules list\n",
    "    \n",
    "    #for variable one\n",
    "    rule_list1 = z[0].split(' ')\n",
    "    for k in rule_list1:\n",
    "        if k == 'is' or k == 'Is' or k == 'IS':\n",
    "            loc = x.index(k)\n",
    "            variable_one.append(x[loc-1])\n",
    "    \n",
    "    #for  val 1\n",
    "    \n",
    "    for k in rule_list1:\n",
    "        if k == 'is' or k == 'Is' or k == 'IS' or k == '=':\n",
    "            loc = rule_list1.index(k)\n",
    "            val1.append(rule_list1[loc+1])\n",
    "            \n",
    "    #for variable 2\n",
    "    print(z[1])\n",
    "    zn = z[1]\n",
    "    print('zn : ',zn)\n",
    "    if 'then' in zn:\n",
    "        rule_list2 = zn.split('then')\n",
    "    elif 'Then' in zn:\n",
    "        rule_list2 = zn.split('Then')\n",
    "    else:\n",
    "        rule_list2 = zn.split('THEN')\n",
    "    \n",
    "    print('rule list two: ', rule_list2)\n",
    "    \n",
    "    rule_list3 = rule_list2[0].split(' ')\n",
    "    rule_list4= rule_list2[1].split(' ')\n",
    "    \n",
    "    print('rule list three ',rule_list3)\n",
    "    print('rule list four ',rule_list4)\n",
    "    \n",
    "    cv = ''\n",
    "    \n",
    "    if cv in rule_list4:\n",
    "        rule_list4.remove(cv)\n",
    "    \n",
    "    print('rule list three ',rule_list3)\n",
    "    print('rule list four',rule_list4)\n",
    "    \n",
    "    \n",
    "    if 'is' in rule_list3:\n",
    "        loc = rule_list3.index('is')\n",
    "        variable_two.append(rule_list3[loc-1])\n",
    "        val2.append(rule_list3[loc+1])\n",
    "    \n",
    "    if 'is' in rule_list4:\n",
    "        loc = rule_list4.index('is')\n",
    "        variable_three.append(rule_list4[loc-1])\n",
    "        val3.append(rule_list4[loc+1])\n",
    "    elif 'will' in rule_list4 and 'be' in rule_list4:\n",
    "        loc1 = rule_list4.index('will')\n",
    "        loc2 = rule_list4.index('be')\n",
    "        variable_three.append(rule_list4[loc1-1])\n",
    "        val3.append(rule_list4[loc2+1])"
   ]
  },
  {
   "cell_type": "code",
   "execution_count": 13,
   "metadata": {},
   "outputs": [
    {
     "name": "stdout",
     "output_type": "stream",
     "text": [
      "['Rule 1', 'Rule 2', 'Rule 3', 'Rule 4']\n",
      "['driving', 'driving', 'driving', 'driving']\n",
      "['good', 'good', 'average', 'bad']\n",
      "['journey_time', 'journey_time', 'journey_time', 'journey_time']\n",
      "['short', 'short', 'medium', 'long']\n",
      "['tip', 'tip', 'tip', 'tip']\n",
      "['big', 'moderate', 'moderate', 'small']\n"
     ]
    }
   ],
   "source": [
    "print(rule_list)\n",
    "print(variable_one)\n",
    "print(val1)\n",
    "print(variable_two)\n",
    "print(val2)\n",
    "print(variable_three)\n",
    "print(val3)"
   ]
  },
  {
   "cell_type": "code",
   "execution_count": 14,
   "metadata": {},
   "outputs": [
    {
     "name": "stdout",
     "output_type": "stream",
     "text": [
      "{'rb_name': 'tippingRulebase', 'membership_functions': {'driving': [{'name': 'bad', 'value': ['0', '30', '0', '20']}, {'name': 'average', 'value': ['50', '50', '20', '20']}, {'name': 'good', 'value': ['80', '100', '20', '0']}], 'journey_time': [{'name': 'short', 'value': ['0', '0', '0', '10']}, {'name': 'medium', 'value': ['10', '10', '5', '5']}, {'name': 'long', 'value': ['20', '20', '10', '0']}], 'tip': [{'name': 'small', 'value': ['50', '50', '50', '50']}, {'name': 'moderate', 'value': ['100', '100', '50', '50']}, {'name': 'big', 'value': ['150', '150', '50', '50']}]}, 'rule_base': ['Rule 1: If driving is good and journey_time is short then tip is big', 'Rule 2: If driving is good or journey_time is short then tip is moderate', 'Rule 3: If driving is average or journey_time is medium then tip is moderate', 'Rule 4: If driving is bad and journey_time is long then tip is small'], 'crisp_data': [{'name': 'journey_time', 'value': '9'}, {'name': 'driving', 'value': '65'}]}\n",
      "--------------------------------------------------------\n",
      "{'journey_time': {'short': 0.1, 'medium': 0.8, 'long': 0}, 'driving': {'bad': 0, 'average': 0.25, 'good': 0.25}}\n"
     ]
    }
   ],
   "source": [
    "main_fuzzy_dic\n",
    "#main_fuzzy_dic['driving']['bad']\n",
    "print(DB)\n",
    "print(\"--------------------------------------------------------\")\n",
    "print(main_fuzzy_dic)"
   ]
  },
  {
   "cell_type": "code",
   "execution_count": 15,
   "metadata": {},
   "outputs": [
    {
     "name": "stdout",
     "output_type": "stream",
     "text": [
      "{'big': 0.1, 'moderate': 0.8, 'small': 0}\n"
     ]
    }
   ],
   "source": [
    "tip={}\n",
    "for i in range(len(rule_list)):\n",
    "    tipvalues=[]\n",
    "    a = main_fuzzy_dic[variable_one[i]][val1[i]]\n",
    "    b = main_fuzzy_dic[variable_two[i]][val2[i]]\n",
    "    condi_check = DB['rule_base'][i].split(' ')\n",
    "    #print(condi_check)\n",
    "    if 'and' in condi_check:\n",
    "        tip[val3[i]] = min(a,b)\n",
    "    elif 'or' in condi_check:\n",
    "        tip[val3[i]] = max(a,b)\n",
    "    \n",
    "print(tip)"
   ]
  },
  {
   "cell_type": "markdown",
   "metadata": {},
   "source": [
    "## Defuzzification process and final result"
   ]
  },
  {
   "cell_type": "code",
   "execution_count": 16,
   "metadata": {},
   "outputs": [],
   "source": [
    "## function to calcuate the area of a traingle\n",
    "def area_of_triangle(base,hight):\n",
    "    area = ((hight * base)/2)\n",
    "    return area #print(area)\n"
   ]
  },
  {
   "cell_type": "code",
   "execution_count": 17,
   "metadata": {},
   "outputs": [
    {
     "name": "stdout",
     "output_type": "stream",
     "text": [
      "The output value is : 108.26086956521739\n"
     ]
    }
   ],
   "source": [
    "### calculateing the base for result variable such as tip\n",
    "base_key = variable_three[0]\n",
    "base_key\n",
    "var3 = {}\n",
    "for i in range(len(DB[\"membership_functions\"][base_key])):\n",
    "    key,val = DB[\"membership_functions\"][base_key][i]['name'], DB[\"membership_functions\"][base_key][i]['value']\n",
    "    var3[key]=val\n",
    "#calculateing the base\n",
    "tot_area = []\n",
    "calc_list = []\n",
    "centroid_add = []\n",
    "for name in var3.keys():\n",
    "    \n",
    "    if tip[name] == 0:\n",
    "        continue\n",
    "    else:\n",
    "        height = 1\n",
    "        calc_list = var3[name]\n",
    "        low = int(calc_list[0]) - int(calc_list[2])\n",
    "        high = int(calc_list[1]) + int(calc_list[3])\n",
    "        base = high - low  \n",
    "        \n",
    "        area = area_of_triangle(base,height)\n",
    "        \n",
    "        height1 = height - tip[name]\n",
    "        base1 = base * height1\n",
    "        \n",
    "        area1 = area_of_triangle(base1,height1)\n",
    "        \n",
    "        total_area = area - area1\n",
    "        tot_area.append(total_area)\n",
    "        \n",
    "        #calculate the centre\n",
    "        center = ((low + high)/2)\n",
    "        centroid_add.append(total_area * center)\n",
    "\n",
    "#centroid calculation\n",
    "divide = 0\n",
    "tot_sum = 0\n",
    "for i in tot_area:\n",
    "    divide = divide + i   \n",
    "for k in centroid_add:\n",
    "    tot_sum = tot_sum + k\n",
    "\n",
    "centroid = tot_sum / divide\n",
    "print(\"The output value is :\", centroid)\n",
    "    "
   ]
  },
  {
   "cell_type": "code",
   "execution_count": null,
   "metadata": {},
   "outputs": [],
   "source": []
  }
 ],
 "metadata": {
  "kernelspec": {
   "display_name": "Python 3",
   "language": "python",
   "name": "python3"
  },
  "language_info": {
   "codemirror_mode": {
    "name": "ipython",
    "version": 3
   },
   "file_extension": ".py",
   "mimetype": "text/x-python",
   "name": "python",
   "nbconvert_exporter": "python",
   "pygments_lexer": "ipython3",
   "version": "3.6.5"
  }
 },
 "nbformat": 4,
 "nbformat_minor": 2
}
